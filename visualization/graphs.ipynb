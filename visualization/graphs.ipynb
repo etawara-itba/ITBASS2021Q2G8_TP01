{
  "nbformat": 4,
  "nbformat_minor": 0,
  "metadata": {
    "colab": {
      "name": "SSTP01EJ2.ipynb",
      "provenance": [],
      "toc_visible": true,
      "mount_file_id": "19mjNZSP-eapMO0435zGYMIiamUcfGxqv",
      "authorship_tag": "ABX9TyPzHsvjzJA4SpaqDyP7TORy",
      "include_colab_link": true
    },
    "kernelspec": {
      "name": "python3",
      "display_name": "Python 3"
    },
    "language_info": {
      "name": "python"
    }
  },
  "cells": [
    {
      "cell_type": "markdown",
      "metadata": {
        "id": "view-in-github",
        "colab_type": "text"
      },
      "source": [
        "<a href=\"https://colab.research.google.com/github/etawara/ITBASS2021Q2G8_TP01/blob/main/visualization/graphs.ipynb\" target=\"_parent\"><img src=\"https://colab.research.google.com/assets/colab-badge.svg\" alt=\"Open In Colab\"/></a>"
      ]
    },
    {
      "cell_type": "markdown",
      "metadata": {
        "id": "IFsEGz1xFyMg"
      },
      "source": [
        "# SS Tp01 Ejercicio 2"
      ]
    },
    {
      "cell_type": "markdown",
      "metadata": {
        "id": "s8vep0WBF2bG"
      },
      "source": [
        "## Imports & Variables Globales"
      ]
    },
    {
      "cell_type": "code",
      "metadata": {
        "id": "gl6LfX5OCknj"
      },
      "source": [
        "import pandas as pd\n",
        "import matplotlib.pyplot as plt"
      ],
      "execution_count": 1,
      "outputs": []
    },
    {
      "cell_type": "code",
      "metadata": {
        "colab": {
          "base_uri": "https://localhost:8080/"
        },
        "id": "_RfNvMqTwAep",
        "outputId": "b007d85e-a165-4595-a878-23ea43e59980"
      },
      "source": [
        "# Drive integration\n",
        "\n",
        "# Import Drive API and authenticate.\n",
        "from google.colab import drive\n",
        "\n",
        "# Mount your Drive to the Colab VM.\n",
        "drive.mount('/gdrive')"
      ],
      "execution_count": 2,
      "outputs": [
        {
          "output_type": "stream",
          "text": [
            "Mounted at /gdrive\n"
          ],
          "name": "stdout"
        }
      ]
    },
    {
      "cell_type": "code",
      "metadata": {
        "id": "6UA_kEm2C2YV"
      },
      "source": [
        "# Input file\n",
        "input_file = \"/gdrive/My Drive/SS/TP01_2.xlsx\"\n",
        "\n",
        "color_BF = \"m\"\n",
        "color_CIM = \"c\""
      ],
      "execution_count": 3,
      "outputs": []
    },
    {
      "cell_type": "markdown",
      "metadata": {
        "id": "OtjbwfKkFrro"
      },
      "source": [
        "## N como Variable Independiente"
      ]
    },
    {
      "cell_type": "code",
      "metadata": {
        "colab": {
          "base_uri": "https://localhost:8080/",
          "height": 297
        },
        "id": "lv3We-IQDIhj",
        "outputId": "0ee2d26f-c21f-4bfa-c265-9c779d1bbbd5"
      },
      "source": [
        "file = pd.read_excel(input_file, \"Average N\")\n",
        "fig, ax = plt.subplots()\n",
        "ax.scatter(file[\"N\"], file[\"BF\"], c=color_BF, alpha=0.8)\n",
        "ax.scatter(file[\"N\"], file[\"CIM\"], c=color_CIM, alpha=0.8)\n",
        "\n",
        "ax.set_xlabel(r'particle number (N)', fontsize=15)\n",
        "ax.set_ylabel(r'time [ms]', fontsize=15)\n",
        "ax.set_title('Efficiency based on N with M={:d}'.format(file[\"M\"][0]))\n",
        "\n",
        "ax.grid(True)\n",
        "fig.tight_layout()\n",
        "\n",
        "plt.show()"
      ],
      "execution_count": 7,
      "outputs": [
        {
          "output_type": "display_data",
          "data": {
            "image/png": "[encoded data removed]",
            "text/plain": [
              "<Figure size 432x288 with 1 Axes>"
            ]
          },
          "metadata": {
            "tags": [],
            "needs_background": "light"
          }
        }
      ]
    },
    {
      "cell_type": "markdown",
      "metadata": {
        "id": "OFgEkYXkHqFL"
      },
      "source": [
        "## M como Variable Independiente"
      ]
    },
    {
      "cell_type": "code",
      "metadata": {
        "colab": {
          "base_uri": "https://localhost:8080/",
          "height": 297
        },
        "id": "rQz9BzPEHulD",
        "outputId": "935c8c97-54a9-4ec7-f786-34a2e4065150"
      },
      "source": [
        "file = pd.read_excel(input_file, \"Average M\")\n",
        "fig, ax = plt.subplots()\n",
        "ax.scatter(file[\"M\"], file[\"BF\"], c=color_BF, alpha=0.8)\n",
        "ax.scatter(file[\"M\"], file[\"CIM\"], c=color_CIM, alpha=0.8)\n",
        "\n",
        "ax.set_xlabel(r'Cell amount (M)', fontsize=15)\n",
        "ax.set_ylabel(r'time [ms]', fontsize=15)\n",
        "ax.set_title('Efficiency based on M with N={:d}'.format(file[\"N\"][0]))\n",
        "\n",
        "ax.grid(True)\n",
        "fig.tight_layout()\n",
        "\n",
        "plt.show()"
      ],
      "execution_count": 6,
      "outputs": [
        {
          "output_type": "display_data",
          "data": {
            "image/png": "[encoded data removed]",
            "text/plain": [
              "<Figure size 432x288 with 1 Axes>"
            ]
          },
          "metadata": {
            "tags": [],
            "needs_background": "light"
          }
        }
      ]
    }
  ]
}